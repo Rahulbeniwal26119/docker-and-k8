{
 "cells": [
  {
   "cell_type": "code",
   "execution_count": 2,
   "metadata": {},
   "outputs": [
    {
     "name": "stdout",
     "output_type": "stream",
     "text": [
      "<class 'type'>\n",
      "<class 'type'>\n"
     ]
    }
   ],
   "source": [
    "class Person(object):\n",
    "    def __init__(self, name):\n",
    "        self.name = name\n",
    "\n",
    "class Employee(Person):\n",
    "    def __init__(self, name, skills, dependants):\n",
    "        super(Employee, self).__init__(name)\n",
    "        self.skills = skills\n",
    "        self.dependants = dependants\n",
    "\n",
    "class A(object):\n",
    "    pass \n",
    "\n",
    "print(type(A))\n",
    "print(type(Employee))\n",
    "\n",
    "\n",
    "e = Employee(\"John\", [\"Python\", \"Django\"], [\"Mary\", \"Peter\"])\n"
   ]
  },
  {
   "cell_type": "code",
   "execution_count": 11,
   "metadata": {},
   "outputs": [],
   "source": [
    "class DictMixin:\n",
    "    def to_dict(self):\n",
    "        return self._traverse_dict(self.__dict__)\n",
    "\n",
    "    def _traverse_dict(self, instance_dict):\n",
    "        result = {}\n",
    "        for key, value in instance_dict.items():\n",
    "            result[key] = self._traverse(key, value)\n",
    "        return result\n",
    "    \n",
    "    def _traverse(self, key, value):\n",
    "        if isinstance(value, dict):\n",
    "            return self._traverse_dict(value)\n",
    "        elif isinstance(value, DictMixin):\n",
    "            return self.to_dict()\n",
    "        elif isinstance(value, list):\n",
    "            return [self._traverse(key, value) for value in value]\n",
    "        elif hasattr(value, '__dict__'):\n",
    "            return self._traverse_dict(value.__dict__)\n",
    "        else:\n",
    "            return value \n",
    "\n",
    "import json\n",
    "\n",
    "class JsonMixin:\n",
    "    def to_json(self):\n",
    "        return json.dumps(self.to_dict())"
   ]
  },
  {
   "cell_type": "code",
   "execution_count": 13,
   "metadata": {},
   "outputs": [],
   "source": [
    "class Employee(DictMixin, JsonMixin, Person):\n",
    "    def __init__(self, name, skills, dependants):\n",
    "        super(Employee, self).__init__(name)\n",
    "        self.skills = skills\n",
    "        self.dependants = dependants\n",
    "\n",
    "e = Employee(\n",
    "    name='John',\n",
    "    skills=['Python Programming', 'Project Management'],\n",
    "    dependants={'wife': 'Jane', 'children': ['Alice', 'Bob']}\n",
    ")\n"
   ]
  },
  {
   "cell_type": "code",
   "execution_count": 14,
   "metadata": {},
   "outputs": [
    {
     "data": {
      "text/plain": [
       "'{\"name\": \"John\", \"skills\": [\"Python Programming\", \"Project Management\"], \"dependants\": {\"wife\": \"Jane\", \"children\": [\"Alice\", \"Bob\"]}}'"
      ]
     },
     "execution_count": 14,
     "metadata": {},
     "output_type": "execute_result"
    }
   ],
   "source": [
    "e.to_dict()\n",
    "e.to_json()"
   ]
  },
  {
   "cell_type": "code",
   "execution_count": 9,
   "metadata": {},
   "outputs": [
    {
     "data": {
      "text/plain": [
       "{'name': 'John',\n",
       " 'skills': ['Python Programming', 'Project Management'],\n",
       " 'dependants': {'wife': 'Jane', 'children': ['Alice', 'Bob']}}"
      ]
     },
     "execution_count": 9,
     "metadata": {},
     "output_type": "execute_result"
    }
   ],
   "source": [
    "e.__dict__"
   ]
  },
  {
   "cell_type": "code",
   "execution_count": 10,
   "metadata": {},
   "outputs": [],
   "source": []
  },
  {
   "cell_type": "code",
   "execution_count": null,
   "metadata": {},
   "outputs": [],
   "source": []
  }
 ],
 "metadata": {
  "kernelspec": {
   "display_name": "Django Shell-Plus",
   "language": "python",
   "name": "django_extensions"
  },
  "language_info": {
   "codemirror_mode": {
    "name": "ipython",
    "version": 3
   },
   "file_extension": ".py",
   "mimetype": "text/x-python",
   "name": "python",
   "nbconvert_exporter": "python",
   "pygments_lexer": "ipython3",
   "version": "3.10.9 (main, Jan 23 2023, 21:46:58) [GCC 11.3.0]"
  },
  "orig_nbformat": 4,
  "vscode": {
   "interpreter": {
    "hash": "f342731a143f328b007ece88e013e1e0f67a609e29122e82d8fe741d21f4d4e0"
   }
  }
 },
 "nbformat": 4,
 "nbformat_minor": 2
}
